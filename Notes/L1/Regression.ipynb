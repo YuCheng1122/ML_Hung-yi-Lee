{
 "cells": [
  {
   "cell_type": "code",
   "execution_count": null,
   "metadata": {},
   "outputs": [],
   "source": [
    "import numpy as np"
   ]
  },
  {
   "cell_type": "markdown",
   "metadata": {},
   "source": [
    "20天的數據總共有 (4320*24) 的資料，有18個資料特徵，將原始資料以月份先做劃分，因為取20天的資料每天24小時，所以會有一個 18(features)*20(days)*24(hours) 的資料，透過這樣的預處理就可以把資料洗成橫向且連續的資料。"
   ]
  },
  {
   "cell_type": "code",
   "execution_count": null,
   "metadata": {},
   "outputs": [],
   "source": [
    "month_data = {}\n",
    "for month in range(12):\n",
    "    sample = np.empty([18, 480])\n",
    "    for day in range(20):\n",
    "        sample[:, day*24:(day+1)*24] = raw_data[18 *\n",
    "                                                (20*month+day):18*(20*month+day+1):]\n",
    "    month_data[month] = sample"
   ]
  },
  {
   "cell_type": "markdown",
   "metadata": {},
   "source": [
    "依據實驗需求需要使用9小時的資料去預測第十個小時的PM2.5，剛剛分割過後每一個月都會有480小時，但\"每個月的前 9 小時不能形成訓練樣本，因為它們沒有足夠的數據來預測第 10 小時。因此，從總小時數 480 中減去 9，我們得到 471 個有效的訓練樣本。”"
   ]
  },
  {
   "cell_type": "code",
   "execution_count": null,
   "metadata": {},
   "outputs": [],
   "source": [
    "x = np. empty([12 * 471, 18 * 9], dtype=float)\n",
    "y = np. empty([12 * 471, 1], dtype=float)\n",
    "for month in range(12):\n",
    "    for day in range(20):\n",
    "        for hour in range(24):\n",
    "            if day == 19 and hour > 14:\n",
    "                continue\n",
    "            x[month * 471 + day * 24 + hour, :] = month_data[month][:,\n",
    "                                                                    day * 24 + hour: day * 24 + hour + 9].reshape(1, -1)\n",
    "            y[month * 471 + day * 24 + hour,\n",
    "                0] = month_data[month][9, day * 24 + hour + 9]\n",
    "print(x)\n",
    "print(y)"
   ]
  },
  {
   "cell_type": "markdown",
   "metadata": {},
   "source": [
    "計算平均值和標準差"
   ]
  },
  {
   "cell_type": "code",
   "execution_count": null,
   "metadata": {},
   "outputs": [],
   "source": [
    "mean_x = np.mean(x, axis=0)  # 每個特徵的平均值\n",
    "std_x = np.std(x, axis=0)    # 每個特徵的標準差"
   ]
  },
  {
   "cell_type": "markdown",
   "metadata": {},
   "source": [
    "使用 NumPy 的向量化操作可以一次處理整個陣列，而不需要單獨處理每個元素。"
   ]
  },
  {
   "cell_type": "code",
   "execution_count": null,
   "metadata": {},
   "outputs": [],
   "source": [
    "x_normalized = (x - mean_x) / std_x\n",
    "std_x[std_x == 0] = 1"
   ]
  },
  {
   "cell_type": "markdown",
   "metadata": {},
   "source": [
    "使用 numpy 進行分割"
   ]
  },
  {
   "cell_type": "code",
   "execution_count": null,
   "metadata": {},
   "outputs": [],
   "source": [
    "train_size = int(len(x) * 0.8)\n",
    "x_train_set, x_validation = x[:train_size], x[train_size:]\n",
    "y_train_set, y_validation = y[:train_size], y[train_size:]"
   ]
  },
  {
   "cell_type": "markdown",
   "metadata": {},
   "source": [
    "檢查數據筆數"
   ]
  },
  {
   "cell_type": "code",
   "execution_count": null,
   "metadata": {},
   "outputs": [],
   "source": [
    "print(len(x_train_set))\n",
    "print(len(x_validation))\n",
    "print(len(y_train_set))\n",
    "print(len(y_validation))"
   ]
  },
  {
   "cell_type": "markdown",
   "metadata": {},
   "source": [
    "權重初始化"
   ]
  },
  {
   "cell_type": "code",
   "execution_count": null,
   "metadata": {},
   "outputs": [],
   "source": [
    "dim = 18 * 9 + 1\n",
    "w = np.zeros([dim, 1])"
   ]
  },
  {
   "cell_type": "markdown",
   "metadata": {},
   "source": [
    "偏置項（bias term）是一個常數值（通常表示為 b 或 w0），它與模型中的特徵值（x1, x2, x3, ...）無關。偏置項允許模型的輸出偏離原點，即使所有特徵值都為零時也可以有一個非零的輸出。像是:\n",
    "\n",
    "$$\n",
    "y=w0+w1x1+w2x2+...+wnxn\n",
    "\n",
    "$$\n",
    "\n",
    "其中 y 是預測值，w0 是偏置項，w1 是特徵權重，x1 是特徵值。"
   ]
  },
  {
   "cell_type": "code",
   "execution_count": null,
   "metadata": {},
   "outputs": [],
   "source": [
    "x = np.hstack([np.ones((x.shape[0], 1)), x])"
   ]
  },
  {
   "cell_type": "markdown",
   "metadata": {},
   "source": [
    "初始化變量"
   ]
  },
  {
   "cell_type": "code",
   "execution_count": null,
   "metadata": {},
   "outputs": [],
   "source": [
    "learning_rate = 1\n",
    "iter_time = 1200\n",
    "adagrad = np.zeros([dim, 1])\n",
    "eps = 0.0000000001"
   ]
  },
  {
   "cell_type": "markdown",
   "metadata": {},
   "source": [
    "訓練迴圈"
   ]
  },
  {
   "cell_type": "code",
   "execution_count": null,
   "metadata": {},
   "outputs": [],
   "source": [
    "for t in range(iter_time):\n",
    "    loss = np.sqrt(np.sum(np.power(np.dot(x, w) - y, 2))/471/12)  # RMSE\n",
    "    if (t % 100 == 0):\n",
    "        print(str(t) + \":\" + str(loss))\n",
    "    gradient = 2 * np.dot(x.transpose(), np.dot(x, w) - y)  # 梯度\n",
    "    adagrad += gradient ** 2\n",
    "    w = w - learning_rate * gradient / np.sqrt(adagrad + eps)"
   ]
  },
  {
   "cell_type": "markdown",
   "metadata": {},
   "source": [
    "讀取測試數據"
   ]
  },
  {
   "cell_type": "code",
   "execution_count": null,
   "metadata": {},
   "outputs": [],
   "source": [
    "testdata = pd.read_csv('./test.csv', header=None, encoding='big5')\n",
    "test_data = testdata.iloc[:, 2:]\n",
    "test_data[test_data == 'NR'] = 0\n",
    "test_data = test_data.to_numpy()"
   ]
  },
  {
   "cell_type": "markdown",
   "metadata": {},
   "source": [
    "正規化測試數據"
   ]
  },
  {
   "cell_type": "code",
   "execution_count": null,
   "metadata": {},
   "outputs": [],
   "source": [
    "test_x = np.empty([240, 18*9], dtype=float)\n",
    "for i in range(240):\n",
    "    test_x[i, :] = test_data[18 * i: 18 * (i + 1), :].reshape(1, -1)"
   ]
  },
  {
   "cell_type": "markdown",
   "metadata": {},
   "source": [
    "添加篇置項"
   ]
  },
  {
   "cell_type": "code",
   "execution_count": null,
   "metadata": {},
   "outputs": [],
   "source": [
    "test_x = np.concatenate((np.ones([240, 1]), test_x), axis=1).astype(float)"
   ]
  },
  {
   "cell_type": "markdown",
   "metadata": {},
   "source": [
    "加載訓練後的權重"
   ]
  },
  {
   "cell_type": "code",
   "execution_count": null,
   "metadata": {},
   "outputs": [],
   "source": [
    "w = np.load('./weight.npy')"
   ]
  }
 ],
 "metadata": {
  "kernelspec": {
   "display_name": "myproject3.11",
   "language": "python",
   "name": "python3"
  },
  "language_info": {
   "name": "python",
   "version": "3.11.2"
  }
 },
 "nbformat": 4,
 "nbformat_minor": 2
}
