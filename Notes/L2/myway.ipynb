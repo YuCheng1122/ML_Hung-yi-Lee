{
 "cells": [
  {
   "cell_type": "markdown",
   "metadata": {},
   "source": [
    "Call Data"
   ]
  },
  {
   "cell_type": "code",
   "execution_count": 49,
   "metadata": {},
   "outputs": [],
   "source": [
    "import numpy as np\n",
    "\n",
    "np.random.seed(0)\n",
    "X_train_fpath = './data/X_train'\n",
    "Y_train_fpath = './data/Y_train'\n",
    "X_test_fpath = './data/X_test'\n",
    "output_fpath = './output_{}.csv'\n",
    "\n",
    "with open(X_train_fpath) as f:\n",
    "    next(f)\n",
    "    X_train = np.array([line.strip('\\n').split(',')[1:]\n",
    "                       for line in f], dtype=float)\n",
    "with open(Y_train_fpath) as f:\n",
    "    next(f)\n",
    "    Y_train = np.array([line.strip('\\n').split(',')[1]\n",
    "                       for line in f], dtype=float)\n",
    "with open(X_test_fpath) as f:\n",
    "    next(f)\n",
    "    X_test = np.array([line.strip('\\n').split(',')[1:]\n",
    "                      for line in f], dtype=float)\n",
    "\n"
   ]
  },
  {
   "cell_type": "code",
   "execution_count": 50,
   "metadata": {},
   "outputs": [
    {
     "data": {
      "text/plain": [
       "array([[33.,  1.,  0., ..., 52.,  0.,  1.],\n",
       "       [63.,  1.,  0., ..., 52.,  0.,  1.],\n",
       "       [71.,  0.,  0., ...,  0.,  0.,  1.],\n",
       "       ...,\n",
       "       [16.,  0.,  0., ...,  8.,  1.,  0.],\n",
       "       [48.,  1.,  0., ..., 52.,  0.,  1.],\n",
       "       [48.,  0.,  0., ...,  0.,  0.,  1.]])"
      ]
     },
     "execution_count": 50,
     "metadata": {},
     "output_type": "execute_result"
    }
   ],
   "source": [
    "X_train"
   ]
  },
  {
   "cell_type": "code",
   "execution_count": 51,
   "metadata": {},
   "outputs": [
    {
     "data": {
      "text/plain": [
       "(54256, 510)"
      ]
     },
     "execution_count": 51,
     "metadata": {},
     "output_type": "execute_result"
    }
   ],
   "source": [
    "X_train.shape"
   ]
  },
  {
   "cell_type": "code",
   "execution_count": 52,
   "metadata": {},
   "outputs": [
    {
     "name": "stdout",
     "output_type": "stream",
     "text": [
      "Size of training set: 48830\n",
      "Size of development set: 5426\n",
      "Size of testing set: 27622\n",
      "Dimension of data: 510\n"
     ]
    }
   ],
   "source": [
    "import pandas as pd\n",
    "import numpy as np\n",
    "\n",
    "# Define the normalization function\n",
    "\n",
    "\n",
    "def _normalize(X, train=True, specified_column=None, X_mean=None, X_std=None):\n",
    "    if specified_column is None:\n",
    "        specified_column = np.arange(X.shape[1])\n",
    "    if train:\n",
    "        X_mean = np.mean(X[:, specified_column], axis=0).reshape(1, -1)\n",
    "        X_std = np.std(X[:, specified_column], axis=0).reshape(1, -1)\n",
    "    X[:, specified_column] = (X[:, specified_column] - X_mean) / (X_std + 1e-8)\n",
    "    return X, X_mean, X_std\n",
    "\n",
    "# Define the train-dev split function\n",
    "\n",
    "\n",
    "def _train_dev_split(X, Y, dev_ratio=0.1):\n",
    "    train_size = int(len(X) * (1 - dev_ratio))\n",
    "    return X[:train_size], Y[:train_size], X[train_size:], Y[train_size:]\n",
    "\n",
    "\n",
    "# Assuming X_train and X_test are already defined\n",
    "# Elevate the first feature to the power of 10 for both training and testing data\n",
    "X_train_df = pd.DataFrame(X_train)\n",
    "# Adjusted to use DataFrame column indexing\n",
    "first_feature = X_train_df.columns[0]\n",
    "X_train_df[first_feature] = X_train_df[first_feature] ** 10\n",
    "\n",
    "X_test_df = pd.DataFrame(X_test)\n",
    "X_test_df[first_feature] = X_test_df[first_feature] ** 10\n",
    "\n",
    "# Normalize the training and testing data\n",
    "X_train_normalized, X_mean, X_std = _normalize(X_train_df.values, train=True)\n",
    "X_test_normalized, _, _ = _normalize(\n",
    "    X_test_df.values, train=False, X_mean=X_mean, X_std=X_std)\n",
    "\n",
    "# Split the training data into training set and development set\n",
    "X_train_selected, Y_train, X_dev_selected, Y_dev = _train_dev_split(\n",
    "    X_train_normalized, Y_train, dev_ratio=0.1)\n",
    "\n",
    "# Calculate the sizes and dimensions of the datasets\n",
    "train_size = X_train_selected.shape[0]\n",
    "dev_size = X_dev_selected.shape[0]\n",
    "test_size = X_test_normalized.shape[0]\n",
    "data_dim = X_train_selected.shape[1]\n",
    "\n",
    "# Print the details\n",
    "print('Size of training set: {}'.format(train_size))\n",
    "print('Size of development set: {}'.format(dev_size))\n",
    "print('Size of testing set: {}'.format(test_size))\n",
    "print('Dimension of data: {}'.format(data_dim))"
   ]
  },
  {
   "cell_type": "code",
   "execution_count": 53,
   "metadata": {},
   "outputs": [
    {
     "data": {
      "text/plain": [
       "array([[-0.26405589,  0.99959458, -0.1822401 , ...,  0.80645987,\n",
       "        -1.01485522,  1.01485522],\n",
       "       [ 0.01165765,  0.99959458, -0.1822401 , ...,  0.80645987,\n",
       "        -1.01485522,  1.01485522],\n",
       "       [ 0.64818085, -1.00040555, -0.1822401 , ..., -1.45536172,\n",
       "        -1.01485522,  1.01485522],\n",
       "       ...,\n",
       "       [-0.21545244, -1.00040555, -0.1822401 , ...,  0.80645987,\n",
       "        -1.01485522,  1.01485522],\n",
       "       [-0.25259188,  0.99959458, -0.1822401 , ...,  0.28450104,\n",
       "        -1.01485522,  1.01485522],\n",
       "       [-0.25686003, -1.00040555, -0.1822401 , ...,  0.80645987,\n",
       "         0.98536219, -0.98536219]])"
      ]
     },
     "execution_count": 53,
     "metadata": {},
     "output_type": "execute_result"
    }
   ],
   "source": [
    "X_train_selected"
   ]
  },
  {
   "cell_type": "markdown",
   "metadata": {},
   "source": [
    "Functions"
   ]
  },
  {
   "cell_type": "code",
   "execution_count": 54,
   "metadata": {},
   "outputs": [],
   "source": [
    "def _shuffle(X, Y):  # 打亂兩個長度相等的列表或數組 X 和 Y\n",
    "    randomize = np.arange(len(X))\n",
    "    np.random.shuffle(randomize)  # 將這個序列隨機打亂\n",
    "    return (X[randomize], Y[randomize])\n",
    "\n",
    "\n",
    "def _sigmoid(z):  # 計算 Sigmoid 函數的值，常用於將邏輯回歸的輸出轉化為概率\n",
    "    return np.clip(1 / (1.0 + np.exp(-z)), 1e-8, 1 - (1e-8))\n",
    "\n",
    "\n",
    "def _f(X, w, b):  # 實現邏輯回歸模型函數，用於計算給定輸入 X 下，每個樣本被正標籤預測的概率\n",
    "    return _sigmoid(np.matmul(X, w) + b)  # 得到邏輯回歸的線性輸出，然後通過 Sigmoid 函數轉化為概率\n",
    "\n",
    "\n",
    "def _predict(X, w, b):  # 基於邏輯回歸模型的輸出，為每個輸入 X 的行生成一個預測（0 或 1）\n",
    "    # 將函數的輸出結果四捨五入（np.round），將概率轉化為 0 或 1 的預測，然後轉換為整數\n",
    "    return np.round(_f(X, w, b)).astype(int)\n",
    "\n",
    "\n",
    "def _accuracy(Y_pred, Y_label):  # 計算預測準確率\n",
    "    # 計算預測值 Y_pred 和實際標籤 Y_label 之間的平均絕對差異，然後用 1 減去這個值來得到準確率。\n",
    "    acc = 1 - np.mean(np.abs(Y_pred - Y_label))\n",
    "    return acc\n",
    "\n",
    "def _normalize(X, train=True, specified_column=None, X_mean=None, X_std=None):\n",
    "\n",
    "    if specified_column == None:  # 如果沒有指定 specified_column，則對 X 中的所有列進行正規化\n",
    "        specified_column = np.arange(X.shape[1])\n",
    "    # 如果是訓練階段（train=True），則計算指定列的平均值 (X_mean) 和標準差 (X_std)\n",
    "    if train:\n",
    "        X_mean = np.mean(X[:, specified_column], 0).reshape(1, -1)\n",
    "        X_std = np.std(X[:, specified_column], 0).reshape(1, -1)\n",
    "\n",
    "    # 使用計算出的平均值和標準差來正規化指定的列，這裡的 1e-8 是為了避免除以零的情況\n",
    "    X[:, specified_column] = (X[:, specified_column] - X_mean) / (X_std + 1e-8)\n",
    "    # 函數返回正規化後的 X，以及用於正規化的 X_mean 和 X_std\n",
    "    return X, X_mean, X_std\n",
    "\n",
    "\n",
    "def _train_dev_split(X, Y, dev_ratio):\n",
    "    train_size = int(len(X) * (1 - dev_ratio))\n",
    "    return X[:train_size], Y[:train_size], X[train_size:], Y[train_size:]\n",
    "\n",
    "# 計算交叉熵損失，這是一種衡量模型預測概率與實際標籤之間差異的方法，常用於分類問題。\n",
    "\n",
    "\n",
    "def _cross_entropy_loss(y_pred, Y_label):\n",
    "    cross_entropy = -np.dot(Y_label, np.log(y_pred)) - \\\n",
    "        np.dot((1 - Y_label), np.log(1 - y_pred))\n",
    "    return cross_entropy\n",
    "\n",
    "# 計算交叉熵損失對權重 w 和偏差 b 的梯度。這些梯度用於更新模型的權重和偏差，以最小化損失函數。\n",
    "\n",
    "def _gradient(X, Y_label, w, b):\n",
    "    y_pred = _f(X, w, b)\n",
    "    pred_error = Y_label - y_pred\n",
    "    w_grad = -np.sum(pred_error * X.T, 1)\n",
    "    b_grad = -np.sum(pred_error)\n",
    "    return w_grad, b_grad"
   ]
  },
  {
   "cell_type": "markdown",
   "metadata": {},
   "source": [
    "Regularization & Split Dataset"
   ]
  },
  {
   "cell_type": "code",
   "execution_count": 55,
   "metadata": {},
   "outputs": [
    {
     "data": {
      "text/plain": [
       "(54256, 510)"
      ]
     },
     "execution_count": 55,
     "metadata": {},
     "output_type": "execute_result"
    }
   ],
   "source": [
    "X_train_df.shape"
   ]
  },
  {
   "cell_type": "code",
   "execution_count": 56,
   "metadata": {},
   "outputs": [
    {
     "name": "stdout",
     "output_type": "stream",
     "text": [
      "Training loss: 0.2674092238920191\n",
      "Development loss: 0.2908138208272099\n",
      "Training accuracy: 0.8848249027237354\n",
      "Development accuracy: 0.8739402875046074\n"
     ]
    }
   ],
   "source": [
    "# 初始化權重 w 和偏差 b。這是訓練開始前的準備步驟。\n",
    "w = np.random.randn(data_dim) * 0.01  # 小的隨機數初始化\n",
    "b = np.zeros((1,))\n",
    "\n",
    "# 訓練參數設置\n",
    "max_iter = 50  # 增加迭代次數\n",
    "batch_size = 16  # 調整批量大小\n",
    "learning_rate = 0.1  # 調整學習率\n",
    "learning_rate_decay = 0.95  # 學習率衰減\n",
    "\n",
    "# 損失和準確率紀錄\n",
    "train_loss = []\n",
    "dev_loss = []\n",
    "train_acc = []\n",
    "dev_acc = []\n",
    "\n",
    "step = 1\n",
    "\n",
    "# 迭代訓練: 對於特定的迭代次數進行操作\n",
    "for epoch in range(max_iter):\n",
    "    if epoch % 10 == 0 and epoch > 0:\n",
    "        learning_rate *= learning_rate_decay\n",
    "\n",
    "    # 使用選定特徵的訓練集進行隨機打亂\n",
    "    X_train_shuffled, Y_train_shuffled = _shuffle(X_train_selected, Y_train)\n",
    "\n",
    "    for idx in range(int(np.floor(train_size / batch_size))):\n",
    "        X_batch = X_train_shuffled[idx*batch_size:(idx+1)*batch_size]\n",
    "        Y_batch = Y_train_shuffled[idx*batch_size:(idx+1)*batch_size]\n",
    "\n",
    "        w_grad, b_grad = _gradient(X_batch, Y_batch, w, b)\n",
    "\n",
    "        w = w - learning_rate / np.sqrt(step) * w_grad\n",
    "        b = b - learning_rate / np.sqrt(step) * b_grad\n",
    "\n",
    "        step += 1\n",
    "\n",
    "    # 計算訓練集和開發集的預測、準確率和損失\n",
    "    y_train_pred = _f(X_train_selected, w, b)\n",
    "    Y_train_pred = np.round(y_train_pred)\n",
    "    train_acc.append(_accuracy(Y_train_pred, Y_train))\n",
    "    train_loss.append(_cross_entropy_loss(y_train_pred, Y_train) / train_size)\n",
    "\n",
    "    y_dev_pred = _f(X_dev_selected, w, b)\n",
    "    Y_dev_pred = np.round(y_dev_pred)\n",
    "    dev_acc.append(_accuracy(Y_dev_pred, Y_dev))\n",
    "    dev_loss.append(_cross_entropy_loss(y_dev_pred, Y_dev) / dev_size)\n",
    "\n",
    "# 輸出最終的訓練和開發集損失及準確率\n",
    "print('Training loss: {}'.format(train_loss[-1]))\n",
    "print('Development loss: {}'.format(dev_loss[-1]))\n",
    "print('Training accuracy: {}'.format(train_acc[-1]))\n",
    "print('Development accuracy: {}'.format(dev_acc[-1]))"
   ]
  },
  {
   "cell_type": "code",
   "execution_count": 9,
   "metadata": {},
   "outputs": [
    {
     "data": {
      "image/png": "[encoded data removed]",
      "text/plain": [
       "<Figure size 640x480 with 1 Axes>"
      ]
     },
     "metadata": {},
     "output_type": "display_data"
    },
    {
     "data": {
      "image/png": "[encoded data removed]",
      "text/plain": [
       "<Figure size 640x480 with 1 Axes>"
      ]
     },
     "metadata": {},
     "output_type": "display_data"
    }
   ],
   "source": [
    "import matplotlib.pyplot as plt\n",
    "\n",
    "# Loss curve\n",
    "plt.plot(train_loss)\n",
    "plt.plot(dev_loss)\n",
    "plt.title('Loss')\n",
    "plt.legend(['train', 'dev'])\n",
    "plt.savefig('loss.png')\n",
    "plt.show()\n",
    "\n",
    "# Accuracy curve\n",
    "plt.plot(train_acc)\n",
    "plt.plot(dev_acc)\n",
    "plt.title('Accuracy')\n",
    "plt.legend(['train', 'dev'])\n",
    "plt.savefig('acc.png')\n",
    "plt.show()"
   ]
  },
  {
   "cell_type": "code",
   "execution_count": 10,
   "metadata": {},
   "outputs": [
    {
     "name": "stdout",
     "output_type": "stream",
     "text": [
      " Unemployed full-time 1.1189806886969682\n",
      " California -0.8152179778840035\n",
      " 1 0.8005249906057196\n",
      " Other Rel 18+ ever marr RP of subfamily -0.6662270498433075\n",
      "capital losses 0.6582447264152376\n",
      "id 0.5708403232326507\n",
      "dividends from stocks -0.4691365459239124\n",
      " Not in universe -0.4308974403630985\n",
      " Italy -0.42717429051015543\n",
      " 2 -0.3936395372287497\n"
     ]
    }
   ],
   "source": [
    "# Predict testing labels\n",
    "predictions = _predict(X_test, w, b)\n",
    "with open(output_fpath.format('logistic'), 'w') as f:\n",
    "    f.write('id,label\\n')\n",
    "    for i, label in enumerate(predictions):\n",
    "        f.write('{},{}\\n'.format(i, label))\n",
    "\n",
    "# Print out the most significant weights\n",
    "ind = np.argsort(np.abs(w))[::-1]\n",
    "with open(X_test_fpath) as f:\n",
    "    content = f.readline().strip('\\n').split(',')\n",
    "features = np.array(content)\n",
    "for i in ind[0:10]:\n",
    "    print(features[i], w[i])"
   ]
  },
  {
   "cell_type": "code",
   "execution_count": 11,
   "metadata": {},
   "outputs": [],
   "source": [
    "# Parse csv files to numpy array\n",
    "with open(X_train_fpath) as f:\n",
    "    next(f)\n",
    "    X_train = np.array([line.strip('\\n').split(',')[1:]\n",
    "                       for line in f], dtype=float)\n",
    "with open(Y_train_fpath) as f:\n",
    "    next(f)\n",
    "    Y_train = np.array([line.strip('\\n').split(',')[1]\n",
    "                       for line in f], dtype=float)\n",
    "with open(X_test_fpath) as f:\n",
    "    next(f)\n",
    "    X_test = np.array([line.strip('\\n').split(',')[1:]\n",
    "                      for line in f], dtype=float)\n",
    "\n",
    "# Normalize training and testing data\n",
    "X_train, X_mean, X_std = _normalize(X_train, train=True)\n",
    "X_test, _, _ = _normalize(X_test, train = False, specified_column = None, X_mean = X_mean, X_std = X_std)"
   ]
  },
  {
   "cell_type": "code",
   "execution_count": 12,
   "metadata": {},
   "outputs": [],
   "source": [
    "# Compute in-class mean\n",
    "X_train_0 = np.array([x for x, y in zip(X_train, Y_train) if y == 0])\n",
    "X_train_1 = np.array([x for x, y in zip(X_train, Y_train) if y == 1])\n",
    "\n",
    "mean_0 = np.mean(X_train_0, axis=0)\n",
    "mean_1 = np.mean(X_train_1, axis=0)\n",
    "\n",
    "# Compute in-class covariance\n",
    "cov_0 = np.zeros((data_dim, data_dim))\n",
    "cov_1 = np.zeros((data_dim, data_dim))\n",
    "\n",
    "for x in X_train_0:\n",
    "    cov_0 += np.dot(np.transpose([x - mean_0]),\n",
    "                    [x - mean_0]) / X_train_0.shape[0]\n",
    "for x in X_train_1:\n",
    "    cov_1 += np.dot(np.transpose([x - mean_1]),\n",
    "                    [x - mean_1]) / X_train_1.shape[0]\n",
    "\n",
    "# Shared covariance is taken as a weighted average of individual in-class covariance.\n",
    "cov = (cov_0 * X_train_0.shape[0] + cov_1 * X_train_1.shape[0]\n",
    "       ) / (X_train_0.shape[0] + X_train_1.shape[0])"
   ]
  },
  {
   "cell_type": "code",
   "execution_count": 13,
   "metadata": {},
   "outputs": [
    {
     "name": "stdout",
     "output_type": "stream",
     "text": [
      "Training accuracy: 0.8690098790917133\n"
     ]
    }
   ],
   "source": [
    "# Compute inverse of covariance matrix.\n",
    "# Since covariance matrix may be nearly singular, np.linalg.inv() may give a large numerical error.\n",
    "# Via SVD decomposition, one can get matrix inverse efficiently and accurately.\n",
    "u, s, v = np.linalg.svd(cov, full_matrices=False)\n",
    "inv = np.matmul(v.T * 1 / s, u.T)\n",
    "\n",
    "# Directly compute weights and bias\n",
    "w = np.dot(inv, mean_0 - mean_1)\n",
    "b = (-0.5) * np.dot(mean_0, np.dot(inv, mean_0)) + 0.5 * np.dot(mean_1, np.dot(inv, mean_1))\\\n",
    "    + np.log(float(X_train_0.shape[0]) / X_train_1.shape[0])\n",
    "\n",
    "# Compute accuracy on training set\n",
    "Y_train_pred = 1 - _predict(X_train, w, b)\n",
    "print('Training accuracy: {}'.format(_accuracy(Y_train_pred, Y_train)))"
   ]
  },
  {
   "cell_type": "code",
   "execution_count": 14,
   "metadata": {},
   "outputs": [
    {
     "name": "stdout",
     "output_type": "stream",
     "text": [
      " Retail trade 6.53173828125\n",
      " 41 5.7802734375\n",
      " Agriculture -5.7724609375\n",
      " 29 -5.642578125\n",
      " Other professional services -5.642578125\n",
      " 44 5.6416015625\n",
      " Forestry and fisheries 5.388671875\n",
      " West 5.2906494140625\n",
      " Abroad -5.064453125\n",
      " 34 -4.98046875\n"
     ]
    },
    {
     "ename": "",
     "evalue": "",
     "output_type": "error",
     "traceback": [
      "\u001b[1;31mThe Kernel crashed while executing code in the the current cell or a previous cell. Please review the code in the cell(s) to identify a possible cause of the failure. Click <a href='https://aka.ms/vscodeJupyterKernelCrash'>here</a> for more info. View Jupyter <a href='command:jupyter.viewOutput'>log</a> for further details."
     ]
    }
   ],
   "source": [
    "# Predict testing labels\n",
    "predictions = 1 - _predict(X_test, w, b)\n",
    "with open(output_fpath.format('generative'), 'w') as f:\n",
    "    f.write('id,label\\n')\n",
    "    for i, label in enumerate(predictions):\n",
    "        f.write('{},{}\\n'.format(i, label))\n",
    "\n",
    "# Print out the most significant weights\n",
    "ind = np.argsort(np.abs(w))[::-1]\n",
    "with open(X_test_fpath) as f:\n",
    "    content = f.readline().strip('\\n').split(',')\n",
    "features = np.array(content)\n",
    "for i in ind[0:10]:\n",
    "    print(features[i], w[i])"
   ]
  }
 ],
 "metadata": {
  "kernelspec": {
   "display_name": "myproject3.11",
   "language": "python",
   "name": "python3"
  },
  "language_info": {
   "codemirror_mode": {
    "name": "ipython",
    "version": 3
   },
   "file_extension": ".py",
   "mimetype": "text/x-python",
   "name": "python",
   "nbconvert_exporter": "python",
   "pygments_lexer": "ipython3",
   "version": "3.11.2"
  }
 },
 "nbformat": 4,
 "nbformat_minor": 2
}
